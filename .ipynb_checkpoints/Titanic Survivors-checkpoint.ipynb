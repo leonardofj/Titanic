{
 "cells": [
  {
   "cell_type": "code",
   "execution_count": 1,
   "metadata": {
    "_cell_guid": "7072ac97-f9fb-49d1-83de-95f33d05f321",
    "_uuid": "b32eab6b7f5038219504395a08f0287b378f6951",
    "collapsed": true
   },
   "outputs": [],
   "source": [
    "# This Python 3 environment comes with many helpful analytics libraries installed\n",
    "# It is defined by the kaggle/python docker image: https://github.com/kaggle/docker-python\n",
    "# For example, here's several helpful packages to load in \n",
    "\n",
    "import numpy as np # linear algebra\n",
    "import pandas as pd # data processing, CSV file I/O (e.g. pd.read_csv)\n",
    "from sklearn.ensemble import RandomForestClassifier\n",
    "\n"
   ]
  },
  {
   "cell_type": "code",
   "execution_count": 2,
   "metadata": {
    "_cell_guid": "9532617b-1553-434e-826e-84bdf0b17906",
    "_uuid": "56fec5f7f9d79e21c2420e6ac937f006023ffa81",
    "collapsed": true
   },
   "outputs": [],
   "source": [
    "# Input data files are available in the \"../input/\" directory.\n",
    "\n",
    "df_train = pd.read_csv('../input/train.csv', index_col='PassengerId')\n",
    "df_test = pd.read_csv('../input/test.csv', index_col='PassengerId')\n",
    "\n",
    "# Any results you write to the current directory are saved as output."
   ]
  },
  {
   "cell_type": "code",
   "execution_count": 3,
   "metadata": {
    "_cell_guid": "cf42a382-b31c-425c-bfed-fa92feb55280",
    "_uuid": "1fde2aa607e024f54018a1c103fd35d264e96a18",
    "collapsed": true
   },
   "outputs": [],
   "source": [
    "#Preparing the tables\n",
    "\n",
    "target = df_train['Survived']  #target variable\n",
    "df_train = df_train.drop('Survived', axis=1)\n",
    "df_train['training_set'] = True\n",
    "df_test['training_set'] = False\n",
    "#dropping irrelevant columns\n",
    "df_train = df_train.drop('Name', axis=1)\n",
    "df_train = df_train.drop('Ticket', axis=1)\n",
    "df_test = df_test.drop('Name', axis=1)\n",
    "df_test = df_test.drop('Ticket', axis=1)"
   ]
  },
  {
   "cell_type": "code",
   "execution_count": 4,
   "metadata": {
    "_cell_guid": "01895412-7462-498c-9d91-ef90c273bb08",
    "_uuid": "0d75930c0fe243f11c5d94166a3b4efe167357f5",
    "collapsed": true
   },
   "outputs": [],
   "source": [
    "#Filling in the missing values and converting categorical features to numerical ones\n",
    "\n",
    "df_full = pd.concat([df_train, df_test])\n",
    "df_full = df_full.interpolate()   \n",
    "df_full = pd.get_dummies(df_full)   "
   ]
  },
  {
   "cell_type": "code",
   "execution_count": 5,
   "metadata": {
    "_cell_guid": "17ab4c13-b82b-4cfe-8cfc-693730e88a06",
    "_uuid": "c03d33c01311c71655efffb47563a64b1485e912",
    "collapsed": true
   },
   "outputs": [],
   "source": [
    "#Separating tables again\n",
    "\n",
    "df_train = df_full[df_full['training_set']==True]\n",
    "df_train = df_train.drop('training_set', axis=1)\n",
    "\n",
    "df_test = df_full[df_full['training_set']==False]\n",
    "df_test = df_test.drop('training_set', axis=1)"
   ]
  },
  {
   "cell_type": "code",
   "execution_count": 6,
   "metadata": {
    "_cell_guid": "5a9dca1e-358f-45cf-a970-ea513d7b67e1",
    "_uuid": "6d775d5a2ffd84436d32703636f6763715dd6306"
   },
   "outputs": [
    {
     "data": {
      "text/plain": [
       "RandomForestClassifier(bootstrap=True, class_weight=None, criterion='gini',\n",
       "            max_depth=None, max_features='auto', max_leaf_nodes=None,\n",
       "            min_impurity_decrease=0.0, min_impurity_split=None,\n",
       "            min_samples_leaf=1, min_samples_split=2,\n",
       "            min_weight_fraction_leaf=0.0, n_estimators=100, n_jobs=-1,\n",
       "            oob_score=False, random_state=None, verbose=0,\n",
       "            warm_start=False)"
      ]
     },
     "execution_count": 6,
     "metadata": {},
     "output_type": "execute_result"
    }
   ],
   "source": [
    "#Training\n",
    "\n",
    "rf = RandomForestClassifier(n_estimators=100, n_jobs=-1)\n",
    "rf.fit(df_train, target)"
   ]
  },
  {
   "cell_type": "code",
   "execution_count": 7,
   "metadata": {
    "_cell_guid": "c3a6a2e7-4a8b-4248-a5ea-8f5d7dcfbfb4",
    "_uuid": "21043e5583c49f3040225032d02439f1e1b6e70a",
    "collapsed": true
   },
   "outputs": [],
   "source": [
    "#Results\n",
    "\n",
    "preds = rf.predict(df_test)\n",
    "my_submission = pd.DataFrame({'PassengerId': df_test.index, 'Survived': preds})\n",
    "#my_submission.to_csv('../input/submission.csv', index=False)"
   ]
  },
  {
   "cell_type": "code",
   "execution_count": 8,
   "metadata": {
    "_cell_guid": "b5001b40-38e3-4c09-8a96-5f8a02d39f56",
    "_uuid": "30dcab6360bafbf825305b1b523351c993d0d56d",
    "collapsed": true
   },
   "outputs": [],
   "source": [
    "my_submission.to_csv('submission.csv', index=False)"
   ]
  }
 ],
 "metadata": {
  "kernelspec": {
   "display_name": "Python 2",
   "language": "python",
   "name": "python2"
  },
  "language_info": {
   "codemirror_mode": {
    "name": "ipython",
    "version": 2
   },
   "file_extension": ".py",
   "mimetype": "text/x-python",
   "name": "python",
   "nbconvert_exporter": "python",
   "pygments_lexer": "ipython2",
   "version": "2.7.12"
  }
 },
 "nbformat": 4,
 "nbformat_minor": 1
}
